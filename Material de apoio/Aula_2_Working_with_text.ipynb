{
  "nbformat": 4,
  "nbformat_minor": 0,
  "metadata": {
    "colab": {
      "provenance": [],
      "include_colab_link": true
    },
    "kernelspec": {
      "name": "python3",
      "display_name": "Python 3"
    },
    "language_info": {
      "name": "python"
    }
  },
  "cells": [
    {
      "cell_type": "markdown",
      "metadata": {
        "id": "view-in-github",
        "colab_type": "text"
      },
      "source": [
        "<a href=\"https://colab.research.google.com/github/NathCunha/Atividades-Bioinfo/blob/main/Material%20de%20apoio/Aula_2_Working_with_text.ipynb\" target=\"_parent\"><img src=\"https://colab.research.google.com/assets/colab-badge.svg\" alt=\"Open In Colab\"/></a>"
      ]
    },
    {
      "cell_type": "markdown",
      "metadata": {
        "id": "RgesGBOmg1m6"
      },
      "source": [
        "## Referências\n",
        "\n",
        "https://pythonforbiologists.com/tutorial/text.html\n",
        "\n",
        "https://docs.python.org/3/tutorial/introduction.html#strings"
      ]
    },
    {
      "cell_type": "markdown",
      "metadata": {
        "id": "QCy2H1PAhaFL"
      },
      "source": [
        "## Introdução\n",
        "\n",
        "Cursos de programação em python geralmente começam com números: soma, adição, subtração, multiplicação, expressões numéricas, entre outros. Porém quando estamos na tentativa de mesclar programação com biologia, há um interesse maior em caracteres (claro que números também são muito, os quais chamamos de **string**. Por quê?\n",
        "\n"
      ]
    },
    {
      "cell_type": "markdown",
      "metadata": {
        "id": "RnYWJomNiKTM"
      },
      "source": [
        "**1. Porque a forma que representamos sequências de DNA, RNA e proteína são strings e essas sequências contituem a maioria dos dados que lidamos na bioinformática**\n",
        "\n",
        "**2. Porque frequentemente precisaremos escrever um código que possa entender a saída de algum outro programa (chamamos isso de pipeline) ou produzir a saída em um formato no qual outro programa possa operar. Ambas as tarefas requerem a manipulação de texto.**"
      ]
    },
    {
      "cell_type": "markdown",
      "metadata": {
        "id": "ZFOXTiCPjCFD"
      },
      "source": [
        "![image.png](data:image/png;base64,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)"
      ]
    },
    {
      "cell_type": "markdown",
      "metadata": {
        "id": "LLRAiKXCjm3x"
      },
      "source": [
        "## Mostrando uma mensagem na tela\n",
        "\n",
        "Para isso, basta utilizar a função print"
      ]
    },
    {
      "cell_type": "code",
      "metadata": {
        "colab": {
          "base_uri": "https://localhost:8080/"
        },
        "id": "i3XyFRG2guHg",
        "outputId": "3f981e6a-7fa7-4d99-f261-e50365f32f31"
      },
      "source": [
        "print(\"Hoje inicia nosso grupo de estudos!\")"
      ],
      "execution_count": null,
      "outputs": [
        {
          "output_type": "stream",
          "name": "stdout",
          "text": [
            "Hoje inicia nosso grupo de estudos!\n"
          ]
        }
      ]
    },
    {
      "cell_type": "markdown",
      "metadata": {
        "id": "mbu30Ekwjyvr"
      },
      "source": [
        "O comando acima pode ser chamado de **statement**."
      ]
    },
    {
      "cell_type": "code",
      "metadata": {
        "colab": {
          "base_uri": "https://localhost:8080/"
        },
        "id": "zznJMAVbjyFT",
        "outputId": "0f359a1d-2952-42c0-a9c5-945c973fc420"
      },
      "source": [
        "help(print)"
      ],
      "execution_count": null,
      "outputs": [
        {
          "output_type": "stream",
          "name": "stdout",
          "text": [
            "Help on built-in function print in module builtins:\n",
            "\n",
            "print(...)\n",
            "    print(value, ..., sep=' ', end='\\n', file=sys.stdout, flush=False)\n",
            "    \n",
            "    Prints the values to a stream, or to sys.stdout by default.\n",
            "    Optional keyword arguments:\n",
            "    file:  a file-like object (stream); defaults to the current sys.stdout.\n",
            "    sep:   string inserted between values, default a space.\n",
            "    end:   string appended after the last value, default a newline.\n",
            "    flush: whether to forcibly flush the stream.\n",
            "\n"
          ]
        }
      ]
    },
    {
      "cell_type": "code",
      "metadata": {
        "colab": {
          "base_uri": "https://localhost:8080/"
        },
        "id": "6qjigSmikC9I",
        "outputId": "4e50c0af-0b54-42b6-a95d-6919b9a99484"
      },
      "source": [
        "print(\"Teste testando\", end=\".\")"
      ],
      "execution_count": null,
      "outputs": [
        {
          "output_type": "stream",
          "name": "stdout",
          "text": [
            "Teste testando ."
          ]
        }
      ]
    },
    {
      "cell_type": "markdown",
      "metadata": {
        "id": "XR2NQHAUk1IZ"
      },
      "source": [
        "**Lembre-se 1: strings estão sempre entres aspas simples ou duplas!**\n",
        "\n",
        "É assim que o Python é capaz de dizer a diferença entre as instruções (como o nome da função) e os dados (o que queremos imprimir). Podemos usar aspas simples ou duplas para strings - Python aceitará qualquer uma das duas."
      ]
    },
    {
      "cell_type": "code",
      "metadata": {
        "id": "-kIlqSGyj8oY",
        "colab": {
          "base_uri": "https://localhost:8080/"
        },
        "outputId": "2697f200-59b8-43a9-ed17-032bcfeb97ac"
      },
      "source": [
        "print(\"String com aspas duplas\")\n",
        "print('String com aspas simples')"
      ],
      "execution_count": null,
      "outputs": [
        {
          "output_type": "stream",
          "name": "stdout",
          "text": [
            "String com aspas duplas\n",
            "String com aspas simples\n"
          ]
        }
      ]
    },
    {
      "cell_type": "markdown",
      "metadata": {
        "id": "yGGV4HKLldh_"
      },
      "source": [
        "**E se eu quiser mostras aspas na tela?**\n"
      ]
    },
    {
      "cell_type": "code",
      "metadata": {
        "id": "qYZmrkMNli8f",
        "colab": {
          "base_uri": "https://localhost:8080/"
        },
        "outputId": "fd98b798-69f5-4c18-926e-b52f0217679f"
      },
      "source": [
        "print(\"Ela disse: 'Amamos acordar as 8h em um domingo!'\")"
      ],
      "execution_count": null,
      "outputs": [
        {
          "output_type": "stream",
          "name": "stdout",
          "text": [
            "Ela disse: 'Amamos acordar as 8h em um domingo!'\n"
          ]
        }
      ]
    },
    {
      "cell_type": "code",
      "metadata": {
        "id": "Npm-cN-S_ZtK",
        "colab": {
          "base_uri": "https://localhost:8080/"
        },
        "outputId": "e2c0e906-9e16-495c-a820-ef922fc95fc9"
      },
      "source": [
        "print('Ela disse: \"Amamos acordar as 8h em um domingo!\"')"
      ],
      "execution_count": null,
      "outputs": [
        {
          "output_type": "stream",
          "name": "stdout",
          "text": [
            "Ela disse: \"Amamos acordar as 8h em um domingo!\"\n"
          ]
        }
      ]
    },
    {
      "cell_type": "markdown",
      "metadata": {
        "id": "JB1lzP_S2fpJ"
      },
      "source": [
        "Podemos também usar barra\n",
        "\n",
        "\n"
      ]
    },
    {
      "cell_type": "code",
      "metadata": {
        "colab": {
          "base_uri": "https://localhost:8080/"
        },
        "id": "AEvfB0wB2m0J",
        "outputId": "ef1a36ff-cbd7-4992-bf83-20aa5397bc48"
      },
      "source": [
        "print(\"Ela disse: \\\"Amamos acordar as 8h em um domingo!\\\"\")"
      ],
      "execution_count": null,
      "outputs": [
        {
          "output_type": "stream",
          "name": "stdout",
          "text": [
            "Ela disse: \"Amamos acordar as 8h em um domingo!\"\n"
          ]
        }
      ]
    },
    {
      "cell_type": "markdown",
      "metadata": {
        "id": "UcdDAGd1mMD7"
      },
      "source": [
        "## Comentários"
      ]
    },
    {
      "cell_type": "markdown",
      "metadata": {
        "id": "p99VH8I-mSM9"
      },
      "source": [
        "Ocasionalmente, queremos escrever algum texto em um programa que seja lido por humanos, em vez de ser executado pelo computador. Chamamos esse tipo de linha de comentário. Para incluir um comentário em seu código-fonte, comece a linha com um símbolo de hash:"
      ]
    },
    {
      "cell_type": "code",
      "metadata": {
        "id": "VvnZZiO2mQkf",
        "colab": {
          "base_uri": "https://localhost:8080/"
        },
        "outputId": "ec0fba8a-d149-460c-ba82-a0e8d0fe1e3b"
      },
      "source": [
        "#mostrando a frase na tela\n",
        "print(\"Ela disse: 'Amamos acordar as 8h em um domingo!'\") "
      ],
      "execution_count": null,
      "outputs": [
        {
          "output_type": "stream",
          "name": "stdout",
          "text": [
            "Ela disse: 'Amamos acordar as 8h em um domingo!'\n"
          ]
        }
      ]
    },
    {
      "cell_type": "code",
      "metadata": {
        "id": "ldg1VBD9_2r3",
        "colab": {
          "base_uri": "https://localhost:8080/"
        },
        "outputId": "3b869b28-203c-47e0-c992-31664846c0e9"
      },
      "source": [
        "'''mostrando a frase na tela\n",
        "testando essa função'''\n",
        "\n",
        "print(\"Ela disse: 'Amamos acordar as 8h em um domingo!'\") "
      ],
      "execution_count": null,
      "outputs": [
        {
          "output_type": "stream",
          "name": "stdout",
          "text": [
            "Ela disse: 'Amamos acordar as 8h em um domingo!'\n"
          ]
        }
      ]
    },
    {
      "cell_type": "markdown",
      "metadata": {
        "id": "Lf-kf-uwmczf"
      },
      "source": [
        "Não cometa o erro de pensar que os comentários só são úteis se você estiver planejando mostrar seu código para outra pessoa. Quando você começar a escrever seu próprio código, ficará surpreso com a rapidez com que esquece o propósito de uma determinada seção ou instrução!"
      ]
    },
    {
      "cell_type": "markdown",
      "metadata": {
        "id": "kIgDnBeEm0Rv"
      },
      "source": [
        "## Erros"
      ]
    },
    {
      "cell_type": "markdown",
      "metadata": {
        "id": "iF4JEjGfm2FG"
      },
      "source": [
        "Aprender o que estamos errando e saber corrigir esses erros é super importante quando estamos programando, pois as linguagens de programação não são como as linguagens naturais - elas têm um conjunto de regras muito estrito e, se você quebrar alguma delas, **o computador não tentará adivinhar o que você pretendia, mas em vez disso irá parar de funcionar e apresentar uma mensagem de erro.**"
      ]
    },
    {
      "cell_type": "markdown",
      "metadata": {
        "id": "teVBYdgsnFK2"
      },
      "source": [
        "**Esquecendo as aspas**\n",
        "\n",
        "**Erro 1:** Lembre-se que sem aspas não há string!"
      ]
    },
    {
      "cell_type": "code",
      "metadata": {
        "id": "MZNN4IfRnQHV",
        "colab": {
          "base_uri": "https://localhost:8080/",
          "height": 130
        },
        "outputId": "b39ab189-53da-4012-8245-000f5379f733"
      },
      "source": [
        "print(Tentando printar uma string sem aspas)"
      ],
      "execution_count": null,
      "outputs": [
        {
          "output_type": "error",
          "ename": "SyntaxError",
          "evalue": "ignored",
          "traceback": [
            "\u001b[0;36m  File \u001b[0;32m\"<ipython-input-6-b5502a81367d>\"\u001b[0;36m, line \u001b[0;32m1\u001b[0m\n\u001b[0;31m    print(Tentando printar uma string sem aspas)\u001b[0m\n\u001b[0m                   ^\u001b[0m\n\u001b[0;31mSyntaxError\u001b[0m\u001b[0;31m:\u001b[0m invalid syntax\n"
          ]
        }
      ]
    },
    {
      "cell_type": "markdown",
      "metadata": {
        "id": "_jJ1QOeinard"
      },
      "source": [
        "**SyntaxError**: o que significa que o Python não consegue entender o código - **ele quebra as regras de alguma forma** (neste caso, a regra de que as strings devem estar entre aspas). "
      ]
    },
    {
      "cell_type": "markdown",
      "metadata": {
        "id": "DHNJsjR8npjk"
      },
      "source": [
        "**Erro 2:** Para chamar uma função, precisa ser exatamente como ela se chama."
      ]
    },
    {
      "cell_type": "code",
      "metadata": {
        "id": "GXPoSpDvnuzG",
        "colab": {
          "base_uri": "https://localhost:8080/"
        },
        "outputId": "d32c35a3-767b-4645-920e-e02b7b58ec48"
      },
      "source": [
        "print(\"A função se chama print\")"
      ],
      "execution_count": null,
      "outputs": [
        {
          "output_type": "stream",
          "name": "stdout",
          "text": [
            "A função se chama print\n"
          ]
        }
      ]
    },
    {
      "cell_type": "markdown",
      "metadata": {
        "id": "VJRRqBztn5hc"
      },
      "source": [
        "**NameError**: A mensagem de erro nos diz qual palavra o Python não entende, portanto, neste caso, é bem fácil de corrigir."
      ]
    },
    {
      "cell_type": "markdown",
      "metadata": {
        "id": "VNVuAXGSoK1s"
      },
      "source": [
        "## Printando várias linhas"
      ]
    },
    {
      "cell_type": "markdown",
      "metadata": {
        "id": "ZtTVEI0roT9v"
      },
      "source": [
        "Essa dica é muito importante para bioinformatas, pois em alguns casos específicos, trabalhamos com sequências quebradass em linhas, como é o caso de sequências no formato fasta."
      ]
    },
    {
      "cell_type": "code",
      "metadata": {
        "id": "31Mlz0IAoPrz",
        "colab": {
          "base_uri": "https://localhost:8080/",
          "height": 130
        },
        "outputId": "d2648d4d-e558-4613-fd7f-5542c4e673e7"
      },
      "source": [
        "#Tentativa 1\n",
        "print(\"ACTAGCTAGTCGATCGATCGTA\n",
        "ATCGATCGATCGATCGAT\")"
      ],
      "execution_count": null,
      "outputs": [
        {
          "output_type": "error",
          "ename": "SyntaxError",
          "evalue": "ignored",
          "traceback": [
            "\u001b[0;36m  File \u001b[0;32m\"<ipython-input-8-29fb7c956843>\"\u001b[0;36m, line \u001b[0;32m2\u001b[0m\n\u001b[0;31m    print(\"ACTAGCTAGTCGATCGATCGTA\u001b[0m\n\u001b[0m                                 ^\u001b[0m\n\u001b[0;31mSyntaxError\u001b[0m\u001b[0;31m:\u001b[0m EOL while scanning string literal\n"
          ]
        }
      ]
    },
    {
      "cell_type": "markdown",
      "metadata": {
        "id": "-oSNXeREo6zk"
      },
      "source": [
        "**EOL**: significa End Of Line, e string literal significa uma string entre aspas. Então, de maneira simples: \"Comecei a ler uma string entre aspas e cheguei ao final da linha antes de chegar às aspas de fechamento\"."
      ]
    },
    {
      "cell_type": "code",
      "metadata": {
        "id": "ijeDizZyosvD",
        "colab": {
          "base_uri": "https://localhost:8080/"
        },
        "outputId": "3ff4ae51-a7c1-4afe-fa70-3542336d8d43"
      },
      "source": [
        "#Tentativa 2\n",
        "print(\"\"\"ACTAGCTAGTCGATCGATCGTA\n",
        "ATCGATCGATCGATCGAT\"\"\")"
      ],
      "execution_count": null,
      "outputs": [
        {
          "output_type": "stream",
          "name": "stdout",
          "text": [
            "ACTAGCTAGTCGATCGATCGTA\n",
            "ATCGATCGATCGATCGAT\n"
          ]
        }
      ]
    },
    {
      "cell_type": "code",
      "metadata": {
        "id": "YLhg69dOpH1F",
        "colab": {
          "base_uri": "https://localhost:8080/"
        },
        "outputId": "3307981f-0994-4857-96d5-cb5cf7f18588"
      },
      "source": [
        "#Tentativa 3\n",
        "print(\"ACTAGCTAGTCGATCGATCGTA\\nATCGATCGATCGATCGAT\")"
      ],
      "execution_count": null,
      "outputs": [
        {
          "output_type": "stream",
          "name": "stdout",
          "text": [
            "ACTAGCTAGTCGATCGATCGTA\n",
            "ATCGATCGATCGATCGAT\n"
          ]
        }
      ]
    },
    {
      "cell_type": "markdown",
      "metadata": {
        "id": "4StlfCTipebN"
      },
      "source": [
        "## Variáveis"
      ]
    },
    {
      "cell_type": "markdown",
      "metadata": {
        "id": "9wnqyc-Tpgsb"
      },
      "source": [
        "Podemos armazenar uma string em uma variável com o sinal **=** para usar posteriormente. \n",
        "\n",
        "Podemos considerar que **=** significa *atribuição* e não *igual*."
      ]
    },
    {
      "cell_type": "code",
      "metadata": {
        "id": "_jYyNe9Gp_Bv"
      },
      "source": [
        "#criando a variavel gene\n",
        "gene = \"ATCGATATATTATATCGATCGCTGCGGCGCAGTCGATGCTAGTC\""
      ],
      "execution_count": null,
      "outputs": []
    },
    {
      "cell_type": "markdown",
      "metadata": {
        "id": "JAtuqqoRnIvO"
      },
      "source": [
        "Agora temos a variável **gene**, a qual armazena a string em algum local da memória."
      ]
    },
    {
      "cell_type": "code",
      "metadata": {
        "id": "EaWrnnaSqmxC",
        "colab": {
          "base_uri": "https://localhost:8080/"
        },
        "outputId": "6ae8d095-54d8-4362-9d91-907947a44970"
      },
      "source": [
        "print(gene)"
      ],
      "execution_count": null,
      "outputs": [
        {
          "output_type": "stream",
          "name": "stdout",
          "text": [
            "ATCGATATATTATATCGATCGCTGCGGCGCAGTCGATGCTAGTC\n"
          ]
        }
      ]
    },
    {
      "cell_type": "markdown",
      "metadata": {
        "id": "mKMw3wVJq0hj"
      },
      "source": [
        "Observe que quando usamos a variável em uma instrução print (), não precisamos de aspas - as aspas são parte da string, portanto, já estão \"embutidas\" na variável gene."
      ]
    },
    {
      "cell_type": "code",
      "metadata": {
        "id": "kwTG8gJuq840",
        "colab": {
          "base_uri": "https://localhost:8080/"
        },
        "outputId": "28fdbbae-8d40-41f7-f8f7-06294e0eaa61"
      },
      "source": [
        "print(\"gene\")"
      ],
      "execution_count": null,
      "outputs": [
        {
          "output_type": "stream",
          "name": "stdout",
          "text": [
            "gene\n"
          ]
        }
      ]
    },
    {
      "cell_type": "markdown",
      "metadata": {
        "id": "ZQLe4cwsq9vE"
      },
      "source": [
        "**Lembre-se 2:** Os nomes das variáveis é você quem decida, então escolha nomes que façam sentido com o que a variável armazena.\n",
        "\n",
        "Existem algumas regrinhas para escolhermos os nomes: Só podemos usar letras, números e sublinhados, portanto, não podemos ter nomes de variáveis que contenham caracteres estranhos como £, ^ ou%. Não podemos começar um nome com um número (embora possamos usar números no meio ou no final de um nome). Finalmente, não podemos usar uma palavra que já está embutida na linguagem Python, como \"print\"."
      ]
    },
    {
      "cell_type": "code",
      "metadata": {
        "id": "FtqWXanfsAiR",
        "colab": {
          "base_uri": "https://localhost:8080/",
          "height": 130
        },
        "outputId": "bd849590-8f1e-428a-fdbe-43285aeb5ec9"
      },
      "source": [
        "27 = \"Número da sorte\""
      ],
      "execution_count": null,
      "outputs": [
        {
          "output_type": "error",
          "ename": "SyntaxError",
          "evalue": "ignored",
          "traceback": [
            "\u001b[0;36m  File \u001b[0;32m\"<ipython-input-13-5c135a150dc7>\"\u001b[0;36m, line \u001b[0;32m1\u001b[0m\n\u001b[0;31m    27 = \"Número da sorte\"\u001b[0m\n\u001b[0m    ^\u001b[0m\n\u001b[0;31mSyntaxError\u001b[0m\u001b[0;31m:\u001b[0m cannot assign to literal\n"
          ]
        }
      ]
    },
    {
      "cell_type": "code",
      "metadata": {
        "id": "AjSG1F4csI0B"
      },
      "source": [
        "print2 = \"Vou printar isso aqui depois\""
      ],
      "execution_count": null,
      "outputs": []
    },
    {
      "cell_type": "code",
      "metadata": {
        "id": "b19k1cUPsMbZ"
      },
      "source": [
        "gene_30 = \"ATCAGTCAGCTACGAT\""
      ],
      "execution_count": null,
      "outputs": []
    },
    {
      "cell_type": "markdown",
      "metadata": {
        "id": "g_fHqw9preQi"
      },
      "source": [
        "**Lembre-se 3:** O python é case sensitive!\n",
        "\n",
        "Ou seja, uma variável chamada **Gene** é diferente de uma outra variável chamada **gene**. E para o python ambas não tem nenhum aligação."
      ]
    },
    {
      "cell_type": "code",
      "metadata": {
        "colab": {
          "base_uri": "https://localhost:8080/"
        },
        "id": "Mr5qtlIQrvkV",
        "outputId": "d6c0fc61-d540-4122-918e-b3a470d9b8bb"
      },
      "source": [
        "gene = \"ATCGATATATTATATCGATCGCTGCGGCGCAGTCGATGCTAGTC\"\n",
        "Gene = \"ATATATATATGCATCGATCAGCTAGCTAGCAT\"\n",
        "\n",
        "print(Gene)\n",
        "print(gene)"
      ],
      "execution_count": null,
      "outputs": [
        {
          "output_type": "stream",
          "name": "stdout",
          "text": [
            "ATATATATATGCATCGATCAGCTAGCTAGCAT\n",
            "ATCGATATATTATATCGATCGCTGCGGCGCAGTCGATGCTAGTC\n"
          ]
        }
      ]
    },
    {
      "cell_type": "markdown",
      "metadata": {
        "id": "pMjLKqAvsgCS"
      },
      "source": [
        "## Manipulando strings"
      ]
    },
    {
      "cell_type": "markdown",
      "metadata": {
        "id": "j5apS6Oosxip"
      },
      "source": [
        "### **Concatenação:**\n",
        "\n",
        "Podemos concatenar (colar) duas strings usando o símbolo +. Este símbolo unirá a string à esquerda com a string à direita:\n",
        "\n",
        " --> **retorna: string**"
      ]
    },
    {
      "cell_type": "code",
      "metadata": {
        "colab": {
          "base_uri": "https://localhost:8080/"
        },
        "id": "_bG8BfeGmzoY",
        "outputId": "8286e0e7-1bba-404f-9bc0-d4fc3735f8aa"
      },
      "source": [
        "dna = \"AATT\" + \"GGCC\"\n",
        "print(dna)"
      ],
      "execution_count": null,
      "outputs": [
        {
          "output_type": "stream",
          "name": "stdout",
          "text": [
            "AATTGGCC\n"
          ]
        }
      ]
    },
    {
      "cell_type": "code",
      "metadata": {
        "colab": {
          "base_uri": "https://localhost:8080/"
        },
        "id": "jiqtNEdtmcP4",
        "outputId": "4e436b41-f4c4-45ac-9dfa-f050e2faa8d6"
      },
      "source": [
        "string_final = \"AAA\"\n",
        "dna = \"ATGC\" + string_final\n",
        "\n",
        "print(dna)"
      ],
      "execution_count": null,
      "outputs": [
        {
          "output_type": "stream",
          "name": "stdout",
          "text": [
            "ATGCAAA\n"
          ]
        }
      ]
    },
    {
      "cell_type": "markdown",
      "metadata": {
        "id": "SbZWYJCktTOJ"
      },
      "source": [
        "É importante perceber que **o resultado da concatenação de duas strings é, em si, uma string**. Portanto, é perfeitamente normal usar uma concatenação dentro de um print."
      ]
    },
    {
      "cell_type": "code",
      "metadata": {
        "colab": {
          "base_uri": "https://localhost:8080/"
        },
        "id": "ogKQvrMltLsP",
        "outputId": "a7e9f56c-51dd-4fd9-a947-607425960028"
      },
      "source": [
        "print(\"O meu dna final é: \" + dna)"
      ],
      "execution_count": null,
      "outputs": [
        {
          "output_type": "stream",
          "name": "stdout",
          "text": [
            "O meu dna final é: AATTGGCC\n"
          ]
        }
      ]
    },
    {
      "cell_type": "markdown",
      "metadata": {
        "id": "DBmWZ2ELteAx"
      },
      "source": [
        "### **Encontrando o tamanho da string:**\n",
        "\n",
        "Utilize a função len()\n",
        "\n",
        " --> **retorna: números**"
      ]
    },
    {
      "cell_type": "code",
      "metadata": {
        "colab": {
          "base_uri": "https://localhost:8080/"
        },
        "id": "wZeVef1RtaA4",
        "outputId": "c3860db0-533e-4b5c-864a-5f19614d10b1"
      },
      "source": [
        "help(len)"
      ],
      "execution_count": null,
      "outputs": [
        {
          "output_type": "stream",
          "name": "stdout",
          "text": [
            "Help on built-in function len in module builtins:\n",
            "\n",
            "len(obj, /)\n",
            "    Return the number of items in a container.\n",
            "\n"
          ]
        }
      ]
    },
    {
      "cell_type": "code",
      "metadata": {
        "colab": {
          "base_uri": "https://localhost:8080/"
        },
        "id": "th1Re15-tjAy",
        "outputId": "7f261f25-acd9-43d3-b273-d23359a13c59"
      },
      "source": [
        "len(dna)"
      ],
      "execution_count": null,
      "outputs": [
        {
          "output_type": "execute_result",
          "data": {
            "text/plain": [
              "8"
            ]
          },
          "metadata": {},
          "execution_count": 19
        }
      ]
    },
    {
      "cell_type": "code",
      "source": [
        "teste = \"ACT\"\n",
        "len(teste)"
      ],
      "metadata": {
        "colab": {
          "base_uri": "https://localhost:8080/"
        },
        "id": "krSuJgXfNsUr",
        "outputId": "812eb1dc-fa43-417e-c50c-f94bf0e3602a"
      },
      "execution_count": null,
      "outputs": [
        {
          "output_type": "execute_result",
          "data": {
            "text/plain": [
              "3"
            ]
          },
          "metadata": {},
          "execution_count": 43
        }
      ]
    },
    {
      "cell_type": "markdown",
      "metadata": {
        "id": "v4ny8Rx6t9ko"
      },
      "source": [
        "**IMPORTANTE:** Python trata string e números diferentes!"
      ]
    },
    {
      "cell_type": "code",
      "metadata": {
        "colab": {
          "base_uri": "https://localhost:8080/",
          "height": 171
        },
        "id": "YHI8u9tAtysj",
        "outputId": "54098f0e-2f69-43eb-cb68-939f5c654e6a"
      },
      "source": [
        "print(\"O tamanho da sequência é \" + len(dna))"
      ],
      "execution_count": null,
      "outputs": [
        {
          "output_type": "error",
          "ename": "TypeError",
          "evalue": "ignored",
          "traceback": [
            "\u001b[0;31m---------------------------------------------------------------------------\u001b[0m",
            "\u001b[0;31mTypeError\u001b[0m                                 Traceback (most recent call last)",
            "\u001b[0;32m<ipython-input-44-8fc6db6423a9>\u001b[0m in \u001b[0;36m<module>\u001b[0;34m()\u001b[0m\n\u001b[0;32m----> 1\u001b[0;31m \u001b[0mprint\u001b[0m\u001b[0;34m(\u001b[0m\u001b[0;34m\"O tamanho da sequência é \"\u001b[0m \u001b[0;34m+\u001b[0m \u001b[0mlen\u001b[0m\u001b[0;34m(\u001b[0m\u001b[0mdna\u001b[0m\u001b[0;34m)\u001b[0m\u001b[0;34m)\u001b[0m\u001b[0;34m\u001b[0m\u001b[0;34m\u001b[0m\u001b[0m\n\u001b[0m",
            "\u001b[0;31mTypeError\u001b[0m: can only concatenate str (not \"int\") to str"
          ]
        }
      ]
    },
    {
      "cell_type": "markdown",
      "metadata": {
        "id": "qi4PuT4AuZtT"
      },
      "source": [
        "Para resolver o problema, podemos usar a função str(). \n",
        "\n",
        "**str () é uma função que recebe um argumento (cujo tipo é número) e retorna um valor (cujo tipo é string) representando esse número.**"
      ]
    },
    {
      "cell_type": "code",
      "metadata": {
        "colab": {
          "base_uri": "https://localhost:8080/"
        },
        "id": "AXpmc-cRuOh-",
        "outputId": "346f8b9b-de54-485a-966a-ed5fc4dfe152"
      },
      "source": [
        "print(\"O tamanho da sequência é \" + str(len(dna)))"
      ],
      "execution_count": null,
      "outputs": [
        {
          "output_type": "stream",
          "name": "stdout",
          "text": [
            "O tamanho da sequência é 8\n"
          ]
        }
      ]
    },
    {
      "cell_type": "markdown",
      "metadata": {
        "id": "JNCMZ5WTurXQ"
      },
      "source": [
        "**IMPORTANTE:** Python trata string e números diferentes!"
      ]
    },
    {
      "cell_type": "code",
      "metadata": {
        "colab": {
          "base_uri": "https://localhost:8080/"
        },
        "id": "xZzbM2eyuMC9",
        "outputId": "32b1fb7a-c9e9-4bee-8bf7-3d8ec84a5150"
      },
      "source": [
        "massa1 = 7\n",
        "massa2 = 10\n",
        "\n",
        "total = massa1 + massa2\n",
        "print(total)"
      ],
      "execution_count": null,
      "outputs": [
        {
          "output_type": "stream",
          "name": "stdout",
          "text": [
            "17\n"
          ]
        }
      ]
    },
    {
      "cell_type": "code",
      "metadata": {
        "colab": {
          "base_uri": "https://localhost:8080/"
        },
        "id": "FLYxkUEaECgn",
        "outputId": "a5cd0043-d870-4852-ead1-0ff02f7182fc"
      },
      "source": [
        "type(massa1)"
      ],
      "execution_count": null,
      "outputs": [
        {
          "output_type": "execute_result",
          "data": {
            "text/plain": [
              "int"
            ]
          },
          "metadata": {},
          "execution_count": 48
        }
      ]
    },
    {
      "cell_type": "code",
      "metadata": {
        "colab": {
          "base_uri": "https://localhost:8080/"
        },
        "id": "_FTKK88SvC0f",
        "outputId": "77075235-5659-43c3-f304-49d3dd1232c2"
      },
      "source": [
        "#concatenando\n",
        "massa1 = \"7\"\n",
        "massa2 = \"10\"\n",
        "\n",
        "total = massa1 + massa2\n",
        "print(total)"
      ],
      "execution_count": null,
      "outputs": [
        {
          "output_type": "stream",
          "name": "stdout",
          "text": [
            "710\n"
          ]
        }
      ]
    },
    {
      "cell_type": "code",
      "metadata": {
        "colab": {
          "base_uri": "https://localhost:8080/"
        },
        "id": "pOixtErxEJKO",
        "outputId": "f6771086-bd90-4088-e0f1-92a44651831f"
      },
      "source": [
        "type(massa1)"
      ],
      "execution_count": null,
      "outputs": [
        {
          "output_type": "execute_result",
          "data": {
            "text/plain": [
              "str"
            ]
          },
          "metadata": {},
          "execution_count": 50
        }
      ]
    },
    {
      "cell_type": "markdown",
      "source": [],
      "metadata": {
        "id": "5pgLObPvG3KB"
      }
    },
    {
      "cell_type": "markdown",
      "metadata": {
        "id": "Kgs8IEfyvdjg"
      },
      "source": [
        "### Deixando caracteres maiúsculos e minúsculos"
      ]
    },
    {
      "cell_type": "code",
      "metadata": {
        "colab": {
          "base_uri": "https://localhost:8080/"
        },
        "id": "cmYAQHZRvCEt",
        "outputId": "a7107815-173c-44ba-c8fb-448d4e696e48"
      },
      "source": [
        "my_dna = \"ATGC\"\n",
        "\n",
        "#printando a variavel my_dna em caracteres minúsculos\n",
        "print(my_dna.lower())"
      ],
      "execution_count": null,
      "outputs": [
        {
          "output_type": "stream",
          "name": "stdout",
          "text": [
            "atgc\n"
          ]
        }
      ]
    },
    {
      "cell_type": "code",
      "metadata": {
        "colab": {
          "base_uri": "https://localhost:8080/"
        },
        "id": "NegYV9ZuvlfG",
        "outputId": "8e3a7620-b1e5-4845-d1eb-be337c0e75b3"
      },
      "source": [
        "my_dna = \"atcg\"\n",
        "\n",
        "#printando a variavel my_dna em caracteres maiúsculos\n",
        "print(my_dna.upper())"
      ],
      "execution_count": null,
      "outputs": [
        {
          "output_type": "stream",
          "name": "stdout",
          "text": [
            "ATCG\n"
          ]
        }
      ]
    },
    {
      "cell_type": "markdown",
      "metadata": {
        "id": "ijrPOnXuvvN3"
      },
      "source": [
        "lower() e upper() são métodos do python. Um método é como uma função, mas aprenderemos melhor sobre isso mais para frente.\n",
        "\n",
        "\n",
        "**Para chamar um método:**\n",
        "\n",
        "objeto.metodo(argumentos)\n",
        "\n",
        "**Para chamar uma função:**\n",
        "\n",
        "funcao(argumentos)\n",
        "\n",
        "**lower e upper são métodos usados apenas para strings!!**"
      ]
    },
    {
      "cell_type": "markdown",
      "metadata": {
        "id": "3xGEfxyUwZ2O"
      },
      "source": [
        "### Substituindo caracteres"
      ]
    },
    {
      "cell_type": "markdown",
      "metadata": {
        "id": "Dts66sLOwtzX"
      },
      "source": [
        "Para substituir caracteres, usamos o método **replace()**, o qual recebe argumentos dentro dos parênteses.\n",
        "\n",
        "**Primeiro argumento:** caracter(es) que deseja trocar\n",
        "\n",
        "**Segundo argumento:** caracter(es) novo\n",
        "\n",
        "**--> retorna: string**"
      ]
    },
    {
      "cell_type": "code",
      "metadata": {
        "colab": {
          "base_uri": "https://localhost:8080/"
        },
        "id": "5z1PK13twLKe",
        "outputId": "6006ad31-b95a-418e-aa01-d23c3ade8f1c"
      },
      "source": [
        "exon = \"CTAGCTAGCTGATCGATCGATGCTAGCTAGCTAGTTTTTT\"\n",
        "exon = exon.replace(\"TTTTTT\", \"T\")\n",
        "print(exon)"
      ],
      "execution_count": null,
      "outputs": [
        {
          "output_type": "stream",
          "name": "stdout",
          "text": [
            "CTAGCTAGCTGATCGATCGATGCTAGCTAGCTAGT\n"
          ]
        }
      ]
    },
    {
      "cell_type": "code",
      "metadata": {
        "id": "oEoJG5QrxO4d"
      },
      "source": [
        "proteina = \"mvlspadktnv\"\n",
        "proteina = proteina.replace(\"vls\", \"ymt\")"
      ],
      "execution_count": null,
      "outputs": []
    },
    {
      "cell_type": "code",
      "source": [
        "print(proteina)"
      ],
      "metadata": {
        "colab": {
          "base_uri": "https://localhost:8080/"
        },
        "id": "4qb_e3ChQeXf",
        "outputId": "4ef4af40-bd2a-4f66-b4bb-d403dc5bbad4"
      },
      "execution_count": null,
      "outputs": [
        {
          "output_type": "stream",
          "name": "stdout",
          "text": [
            "mymtpadktnv\n"
          ]
        }
      ]
    },
    {
      "cell_type": "markdown",
      "metadata": {
        "id": "DNDVubC_xYuk"
      },
      "source": [
        "### Fatiando uma string"
      ]
    },
    {
      "cell_type": "markdown",
      "metadata": {
        "id": "J50_3BLmxtSX"
      },
      "source": [
        "As strings são compostas por caracteres, os quais podem ser acessados pelas suas posições."
      ]
    },
    {
      "cell_type": "markdown",
      "metadata": {
        "id": "6oBcwhtlxzqF"
      },
      "source": [
        "![image.png](data:image/png;base64,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)"
      ]
    },
    {
      "cell_type": "markdown",
      "metadata": {
        "id": "nm6Azbs-x0xc"
      },
      "source": [
        "![image.png](data:image/png;base64,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)"
      ]
    },
    {
      "cell_type": "markdown",
      "metadata": {
        "id": "yRru5txDyEXN"
      },
      "source": [
        "Verificando posição do caracter"
      ]
    },
    {
      "cell_type": "code",
      "metadata": {
        "colab": {
          "base_uri": "https://localhost:8080/"
        },
        "id": "U_VC284uvubm",
        "outputId": "f0378880-1190-4da6-d6e6-4dff317b97a3"
      },
      "source": [
        "organismo = \"vírus\"\n",
        "print(organismo[0])"
      ],
      "execution_count": null,
      "outputs": [
        {
          "output_type": "stream",
          "name": "stdout",
          "text": [
            "v\n"
          ]
        }
      ]
    },
    {
      "cell_type": "code",
      "metadata": {
        "colab": {
          "base_uri": "https://localhost:8080/"
        },
        "id": "Axf8Hwgdx9eK",
        "outputId": "0a114ad0-113d-4a09-8472-1f2203f418db"
      },
      "source": [
        "organismo = \"vírus\"\n",
        "print(organismo[-1])"
      ],
      "execution_count": null,
      "outputs": [
        {
          "output_type": "stream",
          "name": "stdout",
          "text": [
            "s\n"
          ]
        }
      ]
    },
    {
      "cell_type": "code",
      "metadata": {
        "colab": {
          "base_uri": "https://localhost:8080/"
        },
        "id": "T6pGKQhSx_rg",
        "outputId": "eab2585b-5a82-4a4a-baf6-9310eed66ae3"
      },
      "source": [
        "print(\"vírus\"[-1])"
      ],
      "execution_count": null,
      "outputs": [
        {
          "output_type": "stream",
          "name": "stdout",
          "text": [
            "s\n"
          ]
        }
      ]
    },
    {
      "cell_type": "markdown",
      "metadata": {
        "id": "pwFL8GZXyHt3"
      },
      "source": [
        "Fatiando a string"
      ]
    },
    {
      "cell_type": "code",
      "metadata": {
        "id": "EcGvyrOyyCty",
        "colab": {
          "base_uri": "https://localhost:8080/"
        },
        "outputId": "fd1f9fbc-abf5-4e4b-ccf2-0dedc2c111c4"
      },
      "source": [
        "proteina = \"vlspadktnv\"\n",
        "print(proteina[3:5])"
      ],
      "execution_count": null,
      "outputs": [
        {
          "output_type": "stream",
          "name": "stdout",
          "text": [
            "pa\n"
          ]
        }
      ]
    },
    {
      "cell_type": "code",
      "metadata": {
        "id": "-LqG66bZyQ54",
        "colab": {
          "base_uri": "https://localhost:8080/"
        },
        "outputId": "3b626be1-fa8c-47e3-eb3e-806e2d00ad9c"
      },
      "source": [
        "print(proteina[0:6])"
      ],
      "execution_count": null,
      "outputs": [
        {
          "output_type": "stream",
          "name": "stdout",
          "text": [
            "vlspad\n"
          ]
        }
      ]
    },
    {
      "cell_type": "code",
      "metadata": {
        "id": "_aaSnlrgySw2",
        "colab": {
          "base_uri": "https://localhost:8080/"
        },
        "outputId": "36d5f4e7-4afc-4804-85e0-f26473c6751c"
      },
      "source": [
        "print(proteina[2:])"
      ],
      "execution_count": null,
      "outputs": [
        {
          "output_type": "stream",
          "name": "stdout",
          "text": [
            "spadktnv\n"
          ]
        }
      ]
    },
    {
      "cell_type": "markdown",
      "metadata": {
        "id": "sqPPMUgq1SML"
      },
      "source": [
        "**Atente-se que a posição final é sempre a posição final + 1**"
      ]
    },
    {
      "cell_type": "markdown",
      "metadata": {
        "id": "fKH6pS6yygpL"
      },
      "source": [
        "### Contando caracteres\n",
        "\n",
        "Para contar caracteres de uma string, basta usar o método **count()**.\n",
        "\n",
        "**Argumento:** caracter(es) para ser(em) contado(s).\n",
        "\n",
        "**--> retorna: número**"
      ]
    },
    {
      "cell_type": "code",
      "metadata": {
        "colab": {
          "base_uri": "https://localhost:8080/"
        },
        "id": "J6YNrprPyh4R",
        "outputId": "43e3f34d-4524-4eb4-9445-46a5c56a7e5a"
      },
      "source": [
        "sequencia = \"ATCGCTACGCTAACGTG\"\n",
        "print(sequencia.count(\"A\"))\n"
      ],
      "execution_count": null,
      "outputs": [
        {
          "output_type": "stream",
          "name": "stdout",
          "text": [
            "4\n"
          ]
        }
      ]
    },
    {
      "cell_type": "code",
      "metadata": {
        "colab": {
          "base_uri": "https://localhost:8080/"
        },
        "id": "Pym2NMDxy9rk",
        "outputId": "4499d5c4-3fe1-4ad1-912b-a05fabb5ffd2"
      },
      "source": [
        "sequencia = \"ATCGCTACGCTAACGTG\"\n",
        "sequencia.count(\"AT\")\n"
      ],
      "execution_count": null,
      "outputs": [
        {
          "output_type": "execute_result",
          "data": {
            "text/plain": [
              "1"
            ]
          },
          "metadata": {},
          "execution_count": 74
        }
      ]
    },
    {
      "cell_type": "markdown",
      "metadata": {
        "id": "kxeHaGDCzI8M"
      },
      "source": [
        "### Achando um caracter pela primeira vez\n",
        "\n",
        "Utilize o método **find()** para encontrar o local em que um ou mais caracteres estão na string.\n",
        "\n",
        "**--> retorna: número**"
      ]
    },
    {
      "cell_type": "code",
      "metadata": {
        "colab": {
          "base_uri": "https://localhost:8080/"
        },
        "id": "0hU8EI2jzKu4",
        "outputId": "70c9e1be-34c7-42b8-dfe6-0b45ff72f6c9"
      },
      "source": [
        "protein = \"vlspadktnvp\" \n",
        "print(protein.find('p'))\n",
        "print(protein.find('kt'))\n",
        "print(protein.find('w'))"
      ],
      "execution_count": null,
      "outputs": [
        {
          "output_type": "stream",
          "name": "stdout",
          "text": [
            "3\n",
            "6\n",
            "-1\n"
          ]
        }
      ]
    },
    {
      "cell_type": "markdown",
      "metadata": {
        "id": "vsLVMnMx3QQw"
      },
      "source": [
        "**Todos os métodos com string:** https://docs.python.org/3/library/stdtypes.html#string-methods"
      ]
    },
    {
      "cell_type": "markdown",
      "metadata": {
        "id": "PTFE5qz85_0X"
      },
      "source": [
        "## Diferentes formas de printar"
      ]
    },
    {
      "cell_type": "markdown",
      "metadata": {
        "id": "T0xSIiTu6r_C"
      },
      "source": [
        "**f-string**"
      ]
    },
    {
      "cell_type": "code",
      "source": [
        "print('rs254447')"
      ],
      "metadata": {
        "colab": {
          "base_uri": "https://localhost:8080/"
        },
        "id": "zhBPdkLAB0Dl",
        "outputId": "15d3698c-e67c-42f0-cb85-2a6843a1aaef"
      },
      "execution_count": null,
      "outputs": [
        {
          "output_type": "stream",
          "name": "stdout",
          "text": [
            "rs254447\n"
          ]
        }
      ]
    },
    {
      "cell_type": "code",
      "source": [
        "snp1 = 'rs254447'"
      ],
      "metadata": {
        "id": "bg2jf66uB4-5"
      },
      "execution_count": null,
      "outputs": []
    },
    {
      "cell_type": "code",
      "source": [
        "print(snp1)"
      ],
      "metadata": {
        "colab": {
          "base_uri": "https://localhost:8080/"
        },
        "id": "7u55a6kVCA5d",
        "outputId": "c33015bc-094d-45ef-e29a-176dce8ddf5f"
      },
      "execution_count": null,
      "outputs": [
        {
          "output_type": "stream",
          "name": "stdout",
          "text": [
            "rs254447\n"
          ]
        }
      ]
    },
    {
      "cell_type": "code",
      "source": [
        "print(f\"{snp}\")"
      ],
      "metadata": {
        "id": "OFGea1ETB8Hw",
        "colab": {
          "base_uri": "https://localhost:8080/",
          "height": 165
        },
        "outputId": "70d6c996-72fc-4e71-d58a-b7e57db994e5"
      },
      "execution_count": null,
      "outputs": [
        {
          "output_type": "error",
          "ename": "NameError",
          "evalue": "ignored",
          "traceback": [
            "\u001b[0;31m---------------------------------------------------------------------------\u001b[0m",
            "\u001b[0;31mNameError\u001b[0m                                 Traceback (most recent call last)",
            "\u001b[0;32m<ipython-input-10-989fc16fd768>\u001b[0m in \u001b[0;36m<cell line: 1>\u001b[0;34m()\u001b[0m\n\u001b[0;32m----> 1\u001b[0;31m \u001b[0mprint\u001b[0m\u001b[0;34m(\u001b[0m\u001b[0;34mf\"{snp}\"\u001b[0m\u001b[0;34m)\u001b[0m\u001b[0;34m\u001b[0m\u001b[0;34m\u001b[0m\u001b[0m\n\u001b[0m",
            "\u001b[0;31mNameError\u001b[0m: name 'snp' is not defined"
          ]
        }
      ]
    },
    {
      "cell_type": "code",
      "source": [
        "print(f\"O snp é {snp1}\")"
      ],
      "metadata": {
        "colab": {
          "base_uri": "https://localhost:8080/",
          "height": 165
        },
        "id": "3R6_ebJnCCJb",
        "outputId": "5e60bd85-7c6b-4072-f252-0641cc909c0a"
      },
      "execution_count": null,
      "outputs": [
        {
          "output_type": "error",
          "ename": "NameError",
          "evalue": "ignored",
          "traceback": [
            "\u001b[0;31m---------------------------------------------------------------------------\u001b[0m",
            "\u001b[0;31mNameError\u001b[0m                                 Traceback (most recent call last)",
            "\u001b[0;32m<ipython-input-11-5438aee4960f>\u001b[0m in \u001b[0;36m<cell line: 1>\u001b[0;34m()\u001b[0m\n\u001b[0;32m----> 1\u001b[0;31m \u001b[0mprint\u001b[0m\u001b[0;34m(\u001b[0m\u001b[0;34mf\"O snp é {snp1}\"\u001b[0m\u001b[0;34m)\u001b[0m\u001b[0;34m\u001b[0m\u001b[0;34m\u001b[0m\u001b[0m\n\u001b[0m",
            "\u001b[0;31mNameError\u001b[0m: name 'snp1' is not defined"
          ]
        }
      ]
    },
    {
      "cell_type": "code",
      "source": [
        "print(f\"O snp é snp1\")"
      ],
      "metadata": {
        "colab": {
          "base_uri": "https://localhost:8080/"
        },
        "id": "lp4-_ALlTWtQ",
        "outputId": "b23320e7-050b-4fb1-8509-1d7832b98b7f"
      },
      "execution_count": null,
      "outputs": [
        {
          "output_type": "stream",
          "name": "stdout",
          "text": [
            "O snp é snp1\n"
          ]
        }
      ]
    },
    {
      "cell_type": "markdown",
      "source": [
        "**somatório de strings**"
      ],
      "metadata": {
        "id": "C1gqqmnTEu2v"
      }
    },
    {
      "cell_type": "code",
      "source": [
        "snp1 = 'rs254447'"
      ],
      "metadata": {
        "id": "l7OYQfJ0Exs5"
      },
      "execution_count": null,
      "outputs": []
    },
    {
      "cell_type": "code",
      "source": [
        "print(\"O snp é \" + snp1)"
      ],
      "metadata": {
        "colab": {
          "base_uri": "https://localhost:8080/"
        },
        "id": "VYrc_IZkEzxs",
        "outputId": "2d203f67-5ddf-4ce3-fbe6-86069171c6ee"
      },
      "execution_count": null,
      "outputs": [
        {
          "output_type": "stream",
          "name": "stdout",
          "text": [
            "O snp é rs254447\n"
          ]
        }
      ]
    },
    {
      "cell_type": "markdown",
      "metadata": {
        "id": "EWKpWHQvzwos"
      },
      "source": [
        "## Exercícios"
      ]
    },
    {
      "cell_type": "markdown",
      "metadata": {
        "id": "CBAfHssZz3Pj"
      },
      "source": [
        "1. Calcule quantos \"AT\" existem na sequencia abaixo:\n",
        "\n",
        "\n"
      ]
    },
    {
      "cell_type": "code",
      "metadata": {
        "id": "x6mZVOGyzxo4"
      },
      "source": [
        "sequencia1 = \"ACTGATCGATTACGTATAGTATTTGCTATCATACATATATATCGATGCGTTCATATATATGCATCGATCAGCTAGTCAGCTAGCTACGATCGATATATATTACTGATCGATCGGCGCGGCAGGAGAGCGAGCGATCAGCTAGCTAGCATATTATATATTAT\""
      ],
      "execution_count": null,
      "outputs": []
    },
    {
      "cell_type": "markdown",
      "metadata": {
        "id": "g893mIhI0Bls"
      },
      "source": [
        "2. Encontre o motif \"GAAATTC\" e substitua ele na string por \"*\". O motif aparece apenas uma vez."
      ]
    },
    {
      "cell_type": "code",
      "metadata": {
        "id": "VtgkiwQw0XB3"
      },
      "source": [
        "sequencia2 = \"ACTGATCGATTACGTATAGTATTTGCTATCATACATATATATCGATGCGTTCATATATATGCATCGATCAGCTAGTCAGCTAGAAATTCCGATATATATTACTGATCGATCGGCGCGGCAGGAGAGCGAGCGATCAGCTAGCTAGCATATTATATATTAT\""
      ],
      "execution_count": null,
      "outputs": []
    },
    {
      "cell_type": "markdown",
      "metadata": {
        "id": "XtJfUHo80kQE"
      },
      "source": [
        "3. Mostre na tela o tamanho da sequência abaixo"
      ]
    },
    {
      "cell_type": "code",
      "metadata": {
        "id": "4sY1YvrR0mmr"
      },
      "source": [
        "sequencia3 = \"ACTGATCGATTACGTATAGTATTTGCTATCATACATATATATCGATGCGTTCATATATATGCATCGATCAGCTAGTCAGCTAGAAATTCCGATATATATTACTGATCGATCGGCGCGGCAGGAGAGCGAGCGATCAGCTAGCTAGCATATTATATATTAT\""
      ],
      "execution_count": null,
      "outputs": []
    },
    {
      "cell_type": "markdown",
      "metadata": {
        "id": "WWxf5aYv02mr"
      },
      "source": [
        "4. Considere que da posicao 0 a 20 temos um exon e da 21 até o final temos o intron. Mostre na tela o exon com letras maiusculas e o intron com letras minúsculas."
      ]
    },
    {
      "cell_type": "code",
      "metadata": {
        "id": "y87XrN1B1Eug"
      },
      "source": [
        "sequencia4 = \"ACTGATCGATTACGTATAGTATTTGCTATCATACATATATATCGATGCGTTCATATAT\"\n"
      ],
      "execution_count": null,
      "outputs": []
    },
    {
      "cell_type": "markdown",
      "metadata": {
        "id": "31uQ-uB_34uP"
      },
      "source": [
        "### Outros métodos"
      ]
    },
    {
      "cell_type": "markdown",
      "metadata": {
        "id": "JT2Wy7eW4J6n"
      },
      "source": [
        "**startswith**\n",
        "\n",
        "retorna se uma string começa com determinado caracter"
      ]
    },
    {
      "cell_type": "code",
      "metadata": {
        "colab": {
          "base_uri": "https://localhost:8080/"
        },
        "id": "Yp-4ojOM1HpA",
        "outputId": "47c9dd45-6e0f-4537-f8ac-13858203bca7"
      },
      "source": [
        "sequencia = \">titulo\\nACATGCAT\"\n",
        "\n",
        "print(sequencia.startswith('>'))"
      ],
      "execution_count": null,
      "outputs": [
        {
          "output_type": "stream",
          "name": "stdout",
          "text": [
            "True\n"
          ]
        }
      ]
    },
    {
      "cell_type": "code",
      "metadata": {
        "id": "tBWkhZ4U4I2q",
        "colab": {
          "base_uri": "https://localhost:8080/"
        },
        "outputId": "83a9bfec-9688-42c4-bd7c-815b61642033"
      },
      "source": [
        "sequencia = \">titulo\\nACATGCAT\"\n",
        "\n",
        "print(sequencia.startswith('A'))"
      ],
      "execution_count": null,
      "outputs": [
        {
          "output_type": "stream",
          "name": "stdout",
          "text": [
            "False\n"
          ]
        }
      ]
    },
    {
      "cell_type": "markdown",
      "metadata": {
        "id": "QUkIpOnc4LuD"
      },
      "source": [
        "**endswith**\n",
        "\n",
        "\n",
        "retorna se uma string termina com determinado caracter"
      ]
    },
    {
      "cell_type": "code",
      "metadata": {
        "colab": {
          "base_uri": "https://localhost:8080/"
        },
        "id": "f-VX6X544H4N",
        "outputId": "c5b6a2cf-2c19-4621-83b2-8d4aefac3b44"
      },
      "source": [
        "sequencia = \">titulo\\nACATGCAT\"\n",
        "\n",
        "print(sequencia.endswith('>'))"
      ],
      "execution_count": null,
      "outputs": [
        {
          "output_type": "stream",
          "name": "stdout",
          "text": [
            "False\n"
          ]
        }
      ]
    },
    {
      "cell_type": "code",
      "metadata": {
        "colab": {
          "base_uri": "https://localhost:8080/"
        },
        "id": "CmqB_-io4Om3",
        "outputId": "275a3c7a-5b53-4578-b58f-868db245adfb"
      },
      "source": [
        "sequencia = \">titulo\\nACATGCAT\"\n",
        "\n",
        "print(sequencia.endswith('T'))"
      ],
      "execution_count": null,
      "outputs": [
        {
          "output_type": "stream",
          "name": "stdout",
          "text": [
            "True\n"
          ]
        }
      ]
    },
    {
      "cell_type": "markdown",
      "metadata": {
        "id": "grH9zhoH4a1C"
      },
      "source": [
        "**isdigit**"
      ]
    },
    {
      "cell_type": "code",
      "metadata": {
        "colab": {
          "base_uri": "https://localhost:8080/"
        },
        "id": "fVvhBcjb4RXs",
        "outputId": "95fa6848-1bdb-444c-fd7d-368ee1f6d243"
      },
      "source": [
        "total = \"232656459454\"\n",
        "print(total.isdigit())"
      ],
      "execution_count": null,
      "outputs": [
        {
          "output_type": "stream",
          "name": "stdout",
          "text": [
            "True\n"
          ]
        }
      ]
    },
    {
      "cell_type": "code",
      "metadata": {
        "colab": {
          "base_uri": "https://localhost:8080/"
        },
        "id": "MPIhX96L4lVy",
        "outputId": "af42435a-c86e-497a-9525-c57159389cfe"
      },
      "source": [
        "total = \"numero232656459454\"\n",
        "print(total.isdigit())"
      ],
      "execution_count": null,
      "outputs": [
        {
          "output_type": "stream",
          "name": "stdout",
          "text": [
            "False\n"
          ]
        }
      ]
    },
    {
      "cell_type": "markdown",
      "metadata": {
        "id": "ESwnQsQm4n9k"
      },
      "source": [
        "**split**\n",
        "\n",
        "cria uma lista"
      ]
    },
    {
      "cell_type": "code",
      "metadata": {
        "colab": {
          "base_uri": "https://localhost:8080/"
        },
        "id": "1Hh0kZ6F472i",
        "outputId": "7b92322a-0d31-4658-e9af-d0e4d9e0a34a"
      },
      "source": [
        "info = \"gene1_22\"\n",
        "info_list  = info.split(\"_\")\n",
        "print(info_list)"
      ],
      "execution_count": null,
      "outputs": [
        {
          "output_type": "stream",
          "name": "stdout",
          "text": [
            "['gene1', '22']\n"
          ]
        }
      ]
    },
    {
      "cell_type": "markdown",
      "metadata": {
        "id": "sPamOXHM5XfI"
      },
      "source": [
        "**title**\n",
        "\n",
        "faz todas as primeiras letras de todas as palavras ficarem maiúsculas"
      ]
    },
    {
      "cell_type": "code",
      "metadata": {
        "id": "bybfCVqW4-ik",
        "colab": {
          "base_uri": "https://localhost:8080/"
        },
        "outputId": "ee65f2e4-f76a-487a-e33a-fb1c176f891c"
      },
      "source": [
        "texto = \"nosso título será a Bioinformática no Brasil\"\n",
        "print(texto.title())"
      ],
      "execution_count": null,
      "outputs": [
        {
          "output_type": "stream",
          "name": "stdout",
          "text": [
            "Nosso Título Será A Bioinformática No Brasil\n"
          ]
        }
      ]
    }
  ]
}