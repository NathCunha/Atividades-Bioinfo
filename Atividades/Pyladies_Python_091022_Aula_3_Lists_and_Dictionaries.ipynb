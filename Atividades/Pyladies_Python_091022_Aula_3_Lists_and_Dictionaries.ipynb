{
  "nbformat": 4,
  "nbformat_minor": 0,
  "metadata": {
    "colab": {
      "provenance": [],
      "include_colab_link": true
    },
    "kernelspec": {
      "name": "python3",
      "display_name": "Python 3"
    },
    "language_info": {
      "name": "python"
    }
  },
  "cells": [
    {
      "cell_type": "markdown",
      "metadata": {
        "id": "view-in-github",
        "colab_type": "text"
      },
      "source": [
        "<a href=\"https://colab.research.google.com/github/NathCunha/Atividades-Bioinfo/blob/main/Atividades/Pyladies_Python_091022_Aula_3_Lists_and_Dictionaries.ipynb\" target=\"_parent\"><img src=\"https://colab.research.google.com/assets/colab-badge.svg\" alt=\"Open In Colab\"/></a>"
      ]
    },
    {
      "cell_type": "markdown",
      "metadata": {
        "id": "6xq-A63HQiBw"
      },
      "source": [
        "# **Referências**"
      ]
    },
    {
      "cell_type": "markdown",
      "metadata": {
        "id": "C_jQSiUAQFtM"
      },
      "source": [
        "https://pythonforbiologists.com/tutorial/lists.html\n",
        "\n",
        "https://pythonforbiologists.com/tutorial/dictionaries.html"
      ]
    },
    {
      "cell_type": "markdown",
      "metadata": {
        "id": "wmaLHTm1KMpB"
      },
      "source": [
        "#Listas\n",
        "\n",
        "* Sequência de elementos de cualquier tipo: \n",
        "  * `int`\n",
        "  * `float`\n",
        "  * `string` \n",
        "  * outras listas.\n",
        "\n",
        "* Conhecidas como arrays ou vetores.\n",
        "* Se escreve entre colchetes e os elementos vão separados por vírgulas\n",
        "```python\n",
        "reino = ['animal','planta','fungi','bactéria','protista']\n",
        "test = ['id', 0.87, 67, reino]\n",
        "```"
      ]
    },
    {
      "cell_type": "markdown",
      "source": [
        "## Características \n",
        "\n",
        "* Mutables\n",
        "* Ordenadas\n",
        "  * Cada elemento tem uma posição ou index (pode accesar a ele como com os strings)\n",
        "  * O primeiro elemento de uma lista está sempre no índice zero"
      ],
      "metadata": {
        "id": "ah-Kx_t-gm_Y"
      }
    },
    {
      "cell_type": "markdown",
      "metadata": {
        "id": "LxVHQu88dwei"
      },
      "source": [
        "## Por que precisamos de listas?\n",
        "- Lidar com grandes conjuntos de dados\n",
        "\n",
        "\n",
        "\n",
        "\n",
        "\n",
        "\n"
      ]
    },
    {
      "cell_type": "markdown",
      "metadata": {
        "id": "4Klf2pL8hiMT"
      },
      "source": [
        "# **2. Criação de listas e recuperação de elementos**"
      ]
    },
    {
      "cell_type": "code",
      "metadata": {
        "id": "4tC03lyMXNV9"
      },
      "source": [
        "apes = [\"Homo sapiens\", \"Pan troglodytes\", \"Gorilla gorilla\"]\n",
        "conserved_sites = [24, 56, 132]"
      ],
      "execution_count": null,
      "outputs": []
    },
    {
      "cell_type": "code",
      "metadata": {
        "id": "fyWtZyhtDFYb"
      },
      "source": [
        "Exemplos de listas\n",
        "proteina = []\n",
        "proteina = ['ALA', 'LYS', 'GLY', 'GLU', 'ALA']\n",
        "proteina1 = ['A', 'K', 'G', 'E', 'A']\n",
        "proteina2 = ['L', 'I', 'W', 'F', 'T']\n",
        "Enzimas = [proteina1, proteina2, 'D', 'N']"
      ],
      "execution_count": null,
      "outputs": []
    },
    {
      "cell_type": "markdown",
      "metadata": {
        "id": "nybYht1Tomqc"
      },
      "source": [
        "# 2.1 Obter um único elemento: `nomedavariável[Índice]`\n",
        "\n"
      ]
    },
    {
      "cell_type": "code",
      "metadata": {
        "id": "FK3uThdWgdYA"
      },
      "source": [
        "#escreva o nome da variável seguido pelo índice do elemento entre colchetes\n",
        "apes = [\"Homo sapiens\", \"Pan troglodytes\", \"Gorilla gorilla\"]\n",
        "conserved_sites = [24, 56, 132]"
      ],
      "execution_count": null,
      "outputs": []
    },
    {
      "cell_type": "code",
      "source": [
        "print(apes[2])\n",
        "first_site = conserved_sites[2]\n",
        "print(first_site)"
      ],
      "metadata": {
        "colab": {
          "base_uri": "https://localhost:8080/"
        },
        "id": "Ssi7Mhd8SzHl",
        "outputId": "99b4e83c-9d29-4d68-a62e-f7a685a57604"
      },
      "execution_count": null,
      "outputs": [
        {
          "output_type": "stream",
          "name": "stdout",
          "text": [
            "Gorilla gorilla\n",
            "132\n"
          ]
        }
      ]
    },
    {
      "cell_type": "code",
      "metadata": {
        "colab": {
          "base_uri": "https://localhost:8080/"
        },
        "id": "2wp2913BqUMe",
        "outputId": "fb4940b4-61cd-4dee-97e7-bedc5b7f65e2"
      },
      "source": [
        "#Se dermos um número negativo, o Python começa a contar a partir do final da lista\n",
        "apes = [\"Homo sapiens\", \"Pan troglodytes\", \"Gorilla gorilla\"]\n",
        "conserved_sites = [24, 56, 132]\n",
        "\n",
        "last_ape = apes[-1]\n",
        "print(last_ape)"
      ],
      "execution_count": null,
      "outputs": [
        {
          "output_type": "stream",
          "name": "stdout",
          "text": [
            "Gorilla gorilla\n"
          ]
        }
      ]
    },
    {
      "cell_type": "markdown",
      "metadata": {
        "id": "m1dfeqGRqmZ-"
      },
      "source": [
        "#2.2 Obter mais de um elemento: `nomedavariável[intervalo dos indices]`"
      ]
    },
    {
      "cell_type": "code",
      "metadata": {
        "id": "2QttDo07qnXM",
        "colab": {
          "base_uri": "https://localhost:8080/"
        },
        "outputId": "f3993778-0c4b-491c-fd58-0d081ad8ce8c"
      },
      "source": [
        "#Obter mais de um elemento de uma lista? \n",
        "ranks = [\"kingdom\",\"phylum\", \"class\", \"order\", \"family\"]\n",
        "\n",
        "lower_ranks = ranks[2:5]\n",
        "print(lower_ranks)"
      ],
      "execution_count": null,
      "outputs": [
        {
          "output_type": "stream",
          "name": "stdout",
          "text": [
            "['class', 'order']\n"
          ]
        }
      ]
    },
    {
      "cell_type": "markdown",
      "metadata": {
        "id": "2xcm7Ngapw68"
      },
      "source": [
        "# 2.3 Método `index()` "
      ]
    },
    {
      "cell_type": "code",
      "metadata": {
        "colab": {
          "base_uri": "https://localhost:8080/"
        },
        "id": "gbIcpoA6gdmP",
        "outputId": "2ae9e337-08f8-450b-eef1-1b6cdfbeb5c5"
      },
      "source": [
        " # Quando não sabemos o índice, podemos usar o método index() \n",
        "apes = [\"Homo sapiens\", \"Pan troglodytes\", \"Gorilla gorilla\"]\n",
        "\n",
        "chimp_index = apes.index(\"Pan troglodytes\")\n",
        "print(chimp_index)"
      ],
      "execution_count": null,
      "outputs": [
        {
          "output_type": "execute_result",
          "data": {
            "text/plain": [
              "2"
            ]
          },
          "metadata": {},
          "execution_count": 9
        }
      ]
    },
    {
      "cell_type": "markdown",
      "metadata": {
        "id": "ZKi3YROAiQ1U"
      },
      "source": [
        "# **3. Trabalhos com elementos de lista**"
      ]
    },
    {
      "cell_type": "markdown",
      "metadata": {
        "id": "ql70VIyysIDk"
      },
      "source": [
        "# 3.1 Método `append()`"
      ]
    },
    {
      "cell_type": "code",
      "metadata": {
        "colab": {
          "base_uri": "https://localhost:8080/"
        },
        "id": "fJG0tQ1TiKw0",
        "outputId": "0fd9c2d6-3583-44bc-8e13-c3ab168085c0"
      },
      "source": [
        "#Para adicionar outro elemento ao final de uma lista existente, \n",
        "#podemos usar o método append()\n",
        "#Muda o original(variável)\n",
        "apes = [\"Homo sapiens\", \"Pan troglodytes\", \"Gorilla gorilla\"]\n",
        "\n",
        "print(apes)\n",
        "apes.append(\"Pan paniscus\")\n",
        "print(apes)"
      ],
      "execution_count": null,
      "outputs": [
        {
          "output_type": "stream",
          "name": "stdout",
          "text": [
            "['Homo sapiens', 'Pan troglodytes', 'Gorilla gorilla']\n",
            "['Homo sapiens', 'Pan troglodytes', 'Gorilla gorilla', 'Pan paniscus']\n"
          ]
        }
      ]
    },
    {
      "cell_type": "markdown",
      "metadata": {
        "id": "a4Tc_OaHseYc"
      },
      "source": [
        "# 3.2 Método `extend()`"
      ]
    },
    {
      "cell_type": "code",
      "metadata": {
        "colab": {
          "base_uri": "https://localhost:8080/"
        },
        "id": "Pwumt1Mlf6ST",
        "outputId": "00a4ebee-2f27-44d4-b296-135cb85a4f56"
      },
      "source": [
        "#Se quisermos adicionar elementos de uma lista ao final de uma lista \n",
        "#existente, alterando-a no processo, podemos usar o método extend(). \n",
        "#Leva uma lista como seu argumento, em vez de um único elemento\n",
        "apes = [\"Homo sapiens\", \"Pan troglodytes\", \"Gorilla gorilla\"]\n",
        "conserved_sites = [24, 56, 132]\n",
        "\n",
        "print(apes)\n",
        "apes.extend(conserved_sites)\n",
        "print(apes)\n",
        "\n"
      ],
      "execution_count": null,
      "outputs": [
        {
          "output_type": "stream",
          "name": "stdout",
          "text": [
            "['Homo sapiens', 'Pan troglodytes', 'Gorilla gorilla']\n",
            "['Homo sapiens', 'Pan troglodytes', 'Gorilla gorilla', 24, 56, 132]\n"
          ]
        }
      ]
    },
    {
      "cell_type": "markdown",
      "metadata": {
        "id": "yKU3uERLtIrF"
      },
      "source": [
        "# 3.3 Função `len()`"
      ]
    },
    {
      "cell_type": "code",
      "metadata": {
        "colab": {
          "base_uri": "https://localhost:8080/"
        },
        "id": "dtozTOHDizV7",
        "outputId": "14a27e00-c0d2-48a2-83b0-d19157873db1"
      },
      "source": [
        "#Obter o comprimento de uma lista usando a função len()\n",
        "apes = [\"Homo sapiens\", \"Pan troglodytes\", \"Gorilla gorilla\"]\n",
        "\n",
        "print(\"There are \" + str(len(apes)) + \" apes\")\n",
        "apes.append(\"Pan paniscus\")\n",
        "print(\"Now there are \" + str(len(apes)) + \" apes\")"
      ],
      "execution_count": null,
      "outputs": [
        {
          "output_type": "stream",
          "name": "stdout",
          "text": [
            "There are 3 apes\n",
            "Now there are 4 apes\n"
          ]
        }
      ]
    },
    {
      "cell_type": "markdown",
      "metadata": {
        "id": "QuBKy4mktS-p"
      },
      "source": [
        "# 3.4 Concatenar `+`"
      ]
    },
    {
      "cell_type": "code",
      "metadata": {
        "colab": {
          "base_uri": "https://localhost:8080/"
        },
        "id": "3-j0YUSGjTf4",
        "outputId": "9e7e6ccb-b0e4-44eb-8b9e-b0b4e6e46cf4"
      },
      "source": [
        "#Concatenar duas listas \n",
        "#Não muda a original com \"+\", lista nova\n",
        "\n",
        "apes = [\"Homo sapiens\", \"Pan troglodytes\", \"Gorilla gorilla\"]\n",
        "monkeys = [\"Papio ursinus\", \"Macaca mulatta\"]\n",
        "\n",
        "primates = apes + monkeys\n",
        "\n",
        "print(primates)\n",
        "print(str(len(apes)) + \" apes\")\n",
        "print(str(len(monkeys)) + \" monkeys\")\n",
        "print(str(len(primates)) + \" primates\")"
      ],
      "execution_count": null,
      "outputs": [
        {
          "output_type": "stream",
          "name": "stdout",
          "text": [
            "['Homo sapiens', 'Pan troglodytes', 'Gorilla gorilla', 'Papio ursinus', 'Macaca mulatta']\n",
            "3 apes\n",
            "2 monkeys\n",
            "5 primates\n"
          ]
        }
      ]
    },
    {
      "cell_type": "markdown",
      "metadata": {
        "id": "t7ppdTC9tcXJ"
      },
      "source": [
        "# 3.5 Método `reverse()` e `sort()`"
      ]
    },
    {
      "cell_type": "code",
      "metadata": {
        "colab": {
          "base_uri": "https://localhost:8080/"
        },
        "id": "KRVVy9Figtmq",
        "outputId": "2c9c44b7-12e6-44cb-907b-d10086566c1a"
      },
      "source": [
        "#Alterando a ordem dos elementos na lista com reverse() e sort()\n",
        "#Por padrão, o Python classifica as strings em ordem alfabética e \n",
        "#os números em ordem numérica crescente\n",
        "ranks = [\"kingdom\",\"phylum\", \"class\", \"order\", \"family\"]\n",
        "\n",
        "print(\"at the start : \" + str(ranks))\n",
        "\n",
        "ranks.reverse()\n",
        "print(\"after reversing : \" + str(ranks))\n",
        "\n",
        "ranks.sort()\n",
        "print(\"after sorting : \" + str(ranks))"
      ],
      "execution_count": null,
      "outputs": [
        {
          "output_type": "stream",
          "name": "stdout",
          "text": [
            "at the start : ['kingdom', 'phylum', 'class', 'order', 'family']\n",
            "after reversing : ['family', 'order', 'class', 'phylum', 'kingdom']\n",
            "after sorting : ['class', 'family', 'kingdom', 'order', 'phylum']\n"
          ]
        }
      ]
    },
    {
      "cell_type": "markdown",
      "metadata": {
        "id": "LOWfNcuskt66"
      },
      "source": [
        "# **4. Usando uma string como uma lista**"
      ]
    },
    {
      "cell_type": "code",
      "metadata": {
        "colab": {
          "base_uri": "https://localhost:8080/"
        },
        "id": "lMRSKIYVkkVB",
        "outputId": "f2d31654-aa0b-4c66-e5f7-21b6ced0d9a6"
      },
      "source": [
        "#Usar a notação de loop para processar uma string como se fosse uma lista\n",
        "#Python tratará cada caractere da string como um elemento separado\n",
        "#Iteração em uma lista ou string\n",
        "name = \"python\"\n",
        "for character in name:\n",
        "    print(\"one character is \" + character)"
      ],
      "execution_count": null,
      "outputs": [
        {
          "output_type": "stream",
          "name": "stdout",
          "text": [
            "one character is p\n",
            "one character is y\n",
            "one character is t\n",
            "one character is h\n",
            "one character is o\n",
            "one character is n\n"
          ]
        }
      ]
    },
    {
      "cell_type": "markdown",
      "metadata": {
        "id": "yv2FD7tdlLyq"
      },
      "source": [
        "#4.1 Método `split()` Dividir uma string para fazer uma lista"
      ]
    },
    {
      "cell_type": "code",
      "metadata": {
        "colab": {
          "base_uri": "https://localhost:8080/"
        },
        "id": "ZzTTvrFmlb06",
        "outputId": "286fe955-d846-4817-b49c-299f5c2e2373"
      },
      "source": [
        "# Recebe um único argumento, denominado delimitador\n",
        "#Divide a string original onde quer que veja o delimitador, produzindo uma lista\n",
        "names = \"melanogaster,simulans,yakuba,ananassae\"\n",
        "\n",
        "species = names.split(\",\")\n",
        "print(str(species))\n"
      ],
      "execution_count": null,
      "outputs": [
        {
          "output_type": "stream",
          "name": "stdout",
          "text": [
            "['melanogaster', 'simulans', 'yakuba', 'ananassae']\n"
          ]
        }
      ]
    },
    {
      "cell_type": "markdown",
      "metadata": {
        "id": "t4oZ2WUDuDUo"
      },
      "source": [
        "# **5. DICIONÁRIOS**"
      ]
    },
    {
      "cell_type": "markdown",
      "metadata": {
        "id": "rYS7dOMu_JYx"
      },
      "source": [
        "#**5.1 Por que precisamos de dicionários?**\n",
        "Armazenamento de dados pareados (Dicionários)\n",
        "\n",
        "Vetor associativo\n",
        "\n",
        "Podemos querer armazenar:\n",
        "\n",
        "- Nomes de sequência de proteínas e suas sequências;\n",
        "\n",
        "- Nomes de enzimas de restrição de DNA e seus motivos; \n",
        "\n",
        "- Códons e seus resíduos de aminoácidos associados; \n",
        "\n",
        "- Nomes de colegas e seus endereços de e-mail; \n",
        "\n",
        "- Nomes de amostra e suas coordenadas;\n",
        "\n",
        "- Palavras e suas definições\n",
        "\n",
        " \n",
        "                                Pares de valores-chaves"
      ]
    },
    {
      "cell_type": "markdown",
      "metadata": {
        "id": "dURF_ZqxDdTJ"
      },
      "source": [
        "#5.2 Criação de dicionários `dict`"
      ]
    },
    {
      "cell_type": "markdown",
      "metadata": {
        "id": "ZcDaC8MqD22I"
      },
      "source": [
        "- Cada par de dados, consistindo em uma chave e um valor, é chamado de item\n",
        "\n",
        "- Ao armazenar itens em um dicionário, nós os separamos com vírgulas \n",
        "\n",
        "- Dentro de um item individual, separamos a chave e o valor com dois pontos\n",
        "\n",
        "- Os únicos tipos de dados que podemos usar como chaves são strings e números\n",
        "- Não podemos armazenar vários valores para a mesma chave (EXCLUSIVAS)\n",
        "\n",
        "`{\" \": \" \",       }`"
      ]
    },
    {
      "cell_type": "code",
      "metadata": {
        "colab": {
          "base_uri": "https://localhost:8080/"
        },
        "id": "kswjFgIUMEAg",
        "outputId": "af66ae05-7d0b-463d-e2a2-b3e5c770d88d"
      },
      "source": [
        "#Criar um dicionário vazio e adicionar chaves e valores\n",
        "enzymes = {}\n",
        "\n",
        "enzymes['EcoRI'] = r'GAATTC'\n",
        "enzymes['AvaII'] =  r'GG(A|T)CC'\n",
        "enzymes['BisI'] =  r'GC[ATGC]GC'\n",
        "\n",
        "print(enzymes)"
      ],
      "execution_count": null,
      "outputs": [
        {
          "output_type": "stream",
          "name": "stdout",
          "text": [
            "{'EcoRI': 'GAATTC', 'AvaII': 'GG(A|T)CC', 'BisI': 'GC[ATGC]GC'}\n"
          ]
        }
      ]
    },
    {
      "cell_type": "code",
      "metadata": {
        "id": "x-YaKvh__KAo"
      },
      "source": [
        "#Dicionário de enzimas de restrição e suas expressões regulares\n",
        "enzymes = { 'EcoRI':r'GAATTC','AvaII':r'GG(A|T)CC','BisI':r'GC[ATGC]GC' }\n",
        "\n",
        "#Para uma melhor visualização, separar em linhas\n",
        "enzymes = { \n",
        "    'EcoRI' : r'GAATTC', \n",
        "    'AvaII' : r'GG(A|T)CC', \n",
        "    'BisI'  : r'GC[ATGC]GC' \n",
        "}\n",
        "\n",
        "# obs: Nesse caso, as chaves e os valores são strings\n"
      ],
      "execution_count": null,
      "outputs": []
    },
    {
      "cell_type": "markdown",
      "metadata": {
        "id": "7zHJJhj6HP1x"
      },
      "source": [
        "#5.3 Para recuperar informações no dicionário `nomedavariável[nomedachave]`"
      ]
    },
    {
      "cell_type": "code",
      "metadata": {
        "colab": {
          "base_uri": "https://localhost:8080/"
        },
        "id": "dieKgpdCHVDB",
        "outputId": "511bc75a-892f-4d95-ece5-462ed6623298"
      },
      "source": [
        "# Fornecemos a chave do valor que desejamos recuperar\n",
        "enzymes = { \n",
        "    'EcoRI' : r'GAATTC', \n",
        "    'AvaII' : r'GG(A|T)CC', \n",
        "    'BisI'  : r'GC[ATGC]GC' \n",
        "}\n",
        "print(enzymes['BisI'])"
      ],
      "execution_count": null,
      "outputs": [
        {
          "output_type": "stream",
          "name": "stdout",
          "text": [
            "GC[ATGC]GC\n"
          ]
        }
      ]
    },
    {
      "cell_type": "markdown",
      "metadata": {
        "id": "ePqHajpLLC0B"
      },
      "source": [
        "#5.4 Método `pop()` para excluir uma chave"
      ]
    },
    {
      "cell_type": "code",
      "metadata": {
        "colab": {
          "base_uri": "https://localhost:8080/"
        },
        "id": "R4MUcuIsNCJw",
        "outputId": "ee2a47a3-adf4-4f43-a8e5-31c18ca15985"
      },
      "source": [
        "#Retorna o valor e exclui a chave ao mesmo tempo\n",
        "enzymes = { 'EcoRI':r'GAATTC','AvaII':r'GG(A|T)CC','BisI':r'GC[ATGC]GC'}\n",
        "enzymes.pop('EcoRI')\n",
        "print(enzymes)"
      ],
      "execution_count": null,
      "outputs": [
        {
          "output_type": "stream",
          "name": "stdout",
          "text": [
            "{'AvaII': 'GG(A|T)CC', 'BisI': 'GC[ATGC]GC'}\n"
          ]
        }
      ]
    },
    {
      "cell_type": "markdown",
      "metadata": {
        "id": "DAKbU6yLwvyf"
      },
      "source": [
        "#5.5 Transformar para dict"
      ]
    },
    {
      "cell_type": "code",
      "metadata": {
        "colab": {
          "base_uri": "https://localhost:8080/"
        },
        "id": "gVgpp-2gxAzN",
        "outputId": "8f3615f2-eaec-4ef7-bb4f-46e402afd9a4"
      },
      "source": [
        "#Transformando lista em dicionários\n",
        "dna = \"AATGATGAACGAC\" \n",
        "dinucleotides = ['AA','AT','AG','AC', \n",
        "                 'TA','TT','TG','TC', \n",
        "                 'GA','GT','GG','GC', \n",
        "                 'CA','CT','CG','CT'] \n",
        "all_counts = {} \n",
        "for dinucleotide in dinucleotides: \n",
        "    count = dna.count(dinucleotide) \n",
        "    print(\"count is \" + str(count) + \" for \" + dinucleotide) \n",
        "    all_counts[dinucleotide] = count \n",
        "print(all_counts)\n",
        "\n",
        "\n",
        "##Evitar contagens de 0\n",
        "dna = \"AATGATGAACGAC\" \n",
        "dinucleotides = ['AA','AT','AG','AC', \n",
        "                 'TA','TT','TG','TC', \n",
        "                 'GA','GT','GG','GC', \n",
        "                 'CA','CT','CG','CT'] \n",
        "all_counts = {} \n",
        "for dinucleotide in dinucleotides: \n",
        "    count = dna.count(dinucleotide) \n",
        "    if count > 0: \n",
        "        all_counts[dinucleotide] = count \n",
        "print(all_counts)"
      ],
      "execution_count": null,
      "outputs": [
        {
          "output_type": "stream",
          "name": "stdout",
          "text": [
            "count is 2 for AA\n",
            "count is 2 for AT\n",
            "count is 0 for AG\n",
            "count is 2 for AC\n",
            "count is 0 for TA\n",
            "count is 0 for TT\n",
            "count is 2 for TG\n",
            "count is 0 for TC\n",
            "count is 3 for GA\n",
            "count is 0 for GT\n",
            "count is 0 for GG\n",
            "count is 0 for GC\n",
            "count is 0 for CA\n",
            "count is 0 for CT\n",
            "count is 1 for CG\n",
            "count is 0 for CT\n",
            "{'AA': 2, 'AT': 2, 'AG': 0, 'AC': 2, 'TA': 0, 'TT': 0, 'TG': 2, 'TC': 0, 'GA': 3, 'GT': 0, 'GG': 0, 'GC': 0, 'CA': 0, 'CT': 0, 'CG': 1}\n",
            "{'AA': 2, 'AT': 2, 'AC': 2, 'TG': 2, 'GA': 3, 'CG': 1}\n"
          ]
        }
      ]
    },
    {
      "cell_type": "markdown",
      "metadata": {
        "id": "ECND15OSxjT-"
      },
      "source": [
        "#5.6 Verificar a existência de um elemento em uma lista: Método `get()`"
      ]
    },
    {
      "cell_type": "code",
      "metadata": {
        "colab": {
          "base_uri": "https://localhost:8080/"
        },
        "id": "66RgOz0rzflx",
        "outputId": "7e5407bc-f0e7-426d-f608-20814521f753"
      },
      "source": [
        "#Pesquisar nesse novo dicionário com o método get()\n",
        "print(all_counts)\n",
        "\n",
        "print(all_counts['TG'])\n",
        "\n",
        "print(all_counts.get('TG'))\n",
        "\n",
        "# get() pode receber um segundo argumento opcional\n",
        "print(\"count for TG is \" + str(all_counts.get('TG', 0))) \n",
        "print(\"count for TT is \" + str(all_counts.get('TT', 0)))\n",
        "print(\"count for GC is \" + str(all_counts.get('GC', 0)))\n",
        "print(\"count for CG is \" + str(all_counts.get('CG', 0)))\n"
      ],
      "execution_count": null,
      "outputs": [
        {
          "output_type": "stream",
          "name": "stdout",
          "text": [
            "{'AA': 2, 'AT': 2, 'AC': 2, 'TG': 2, 'GA': 3, 'CG': 1}\n",
            "2\n",
            "2\n",
            "count for TG is 2\n",
            "count for TT is 0\n",
            "count for GC is 0\n",
            "count for CG is 1\n"
          ]
        }
      ]
    },
    {
      "cell_type": "markdown",
      "metadata": {
        "id": "fZib_6k83L5t"
      },
      "source": [
        "#5.7 Iterando sobre chaves: Método `keys()` "
      ]
    },
    {
      "cell_type": "code",
      "metadata": {
        "colab": {
          "base_uri": "https://localhost:8080/"
        },
        "id": "2bbMiHHd3UEv",
        "outputId": "a1faa8b0-e185-4815-bf57-0d8571fa037c"
      },
      "source": [
        "#Não tem a mesma ordem durante o loop\n",
        "#Imprimir todos os dinucleotídeos em que a contagem era 2\n",
        "for dinucleotide in dinucleotides: \n",
        "    if all_counts.get(dinucleotide, 0) == 2: \n",
        "        print(dinucleotide)\n",
        "\n",
        "#Iterando sobre as chaves\n",
        "#Método keys() retorna uma lista de todas as chaves no dicionário\n",
        "print(all_counts.keys())\n",
        "\n",
        "# Colocando em um loop\n",
        "for dinucleotide in all_counts.keys():\n",
        "    if all_counts.get(dinucleotide) == 2:\n",
        "        print(dinucleotide)\n",
        "print(\"Fin\")\n",
        "\n",
        "#Se quisermos controlar a ordem em que as chaves são impressas, podemos usar a função sorted() para classificar a lista antes de processá-la:\n",
        "\n",
        "for dinucleotide in sorted(all_counts.keys()):\n",
        "    if all_counts.get(dinucleotide) == 2:\n",
        "        print(dinucleotide)"
      ],
      "execution_count": null,
      "outputs": [
        {
          "output_type": "stream",
          "name": "stdout",
          "text": [
            "AA\n",
            "AT\n",
            "AC\n",
            "TG\n",
            "dict_keys(['AA', 'AT', 'AC', 'TG', 'GA', 'CG'])\n",
            "AA\n",
            "AT\n",
            "AC\n",
            "TG\n",
            "Fin\n",
            "AA\n",
            "AC\n",
            "AT\n",
            "TG\n"
          ]
        }
      ]
    },
    {
      "cell_type": "markdown",
      "metadata": {
        "id": "w_i6MPpt6H_k"
      },
      "source": [
        "#5.8 Iterando sobre itens: Método `items()`"
      ]
    },
    {
      "cell_type": "code",
      "source": [
        "all_counts.items()"
      ],
      "metadata": {
        "colab": {
          "base_uri": "https://localhost:8080/"
        },
        "id": "mm8vfVGYZZ9s",
        "outputId": "cfbdde9e-3e16-4fb8-c8a3-2b262fc0eaa6"
      },
      "execution_count": null,
      "outputs": [
        {
          "output_type": "execute_result",
          "data": {
            "text/plain": [
              "dict_items([('AA', 2), ('AT', 2), ('AC', 2), ('TG', 2), ('GA', 3), ('CG', 1)])"
            ]
          },
          "metadata": {},
          "execution_count": 22
        }
      ]
    },
    {
      "cell_type": "code",
      "metadata": {
        "colab": {
          "base_uri": "https://localhost:8080/"
        },
        "id": "nRIx-bBa6WPb",
        "outputId": "fc03f5bd-347e-4569-af1e-5b6670f80f60"
      },
      "source": [
        "#Método items() para iterar pares de dados, em vez de apenas chaves\n",
        "#Retorna uma lista de pares de valores\n",
        "#exemplo com loop\n",
        "for dinucleotide, count in all_counts.items():\n",
        "    if count == 2:\n",
        "        print(dinucleotide)\n"
      ],
      "execution_count": null,
      "outputs": [
        {
          "output_type": "stream",
          "name": "stdout",
          "text": [
            "AA\n",
            "AT\n",
            "AC\n",
            "TG\n"
          ]
        }
      ]
    },
    {
      "cell_type": "markdown",
      "metadata": {
        "id": "T5qnG6tMMsTh"
      },
      "source": [
        "### **Exercício **"
      ]
    },
    {
      "cell_type": "markdown",
      "metadata": {
        "id": "H4G7-1CDCqA5"
      },
      "source": [
        "1. O GenBank é um banco de dados de sequências biológicas disponíveis publicamente e é produzido e\n",
        "mantido pelo National Center for Biotechnology Information (NCBI).\n",
        " As sequências podem ser acessadas por\n",
        "identificadores, no caso das sequências proteicas, o formato dos números de acesso é composto por 3 letras\n",
        "+ 5 numerais ou 3 letras + 7 numerais. Realize as seguintes tarefas em Python com base nos identificadores\n",
        "abaixo:\n",
        "AAY66821.1, AAY66759.1, AAY66711.1, AAY66706.1, AAY66703.1, AAY66697.1,\n",
        "AAY66696.1, AAY66682.1, AAY66647.1, AAY66625.1, AAY66623.1, AAY66620.1,\n",
        "AAY66619.1, AAY66616.1, AAY66609.1, AAY66607.1, AAY66586.1, AAY66564.1,\n",
        "AAY66562.1, AAY66561.1, AAY66558.1, AAY66544.1, AAY66542.1, AAY66539.1,\n",
        "AAY66538.1, AAY66537.1, AAY66536.1, AAY66512.1, AAY66496.1, AAM93627.1,\n",
        "AAM93626.1, AAY66506.1, AAM93587.1, AAY66811.1, AAY66620.1, AAY66555.1,\n",
        "AAY66707.1, AAM93653.1, AAY66608.1, AAY66700.1, AAY66646.1, AAY66809.1,\n",
        "AAK97814.1, AAK97810.1, AAY66594.1, AAY66685.1, AAY66571.1, AAY66865.1.\n",
        "\n",
        "a) Crie uma lista com esses identificadores, obtenha e imprima tamanho da lista criada.\n",
        "\n",
        "b) Verifique a presença dos seguintes identificadores:\n",
        "AAY66682.1, AAY66504.1, AAY66640.1, AAY66562.1, AAY66816.1\n",
        "\n",
        "c) Obtenha e imprima o elemento presente na posição 10 da lista.\n",
        "\n",
        "d) Insira os identificadores nas posições indicadas e imprima a lista final:\n",
        "• AAY66967.1 posição 11\n",
        "• AAY66880.1 posição 21\n",
        "• AAY66874.1 posição 16\n",
        "\n",
        "e) Verifique o elemento na posição 8 e em seguida o retire da lista e imprima a lista final"
      ]
    }
  ]
}